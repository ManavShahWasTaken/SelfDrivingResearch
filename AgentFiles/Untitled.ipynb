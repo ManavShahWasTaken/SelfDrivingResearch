{
 "cells": [
  {
   "cell_type": "code",
   "execution_count": 7,
   "metadata": {},
   "outputs": [
    {
     "name": "stdout",
     "output_type": "stream",
     "text": [
      "requesting action\n",
      "action done\n",
      "requesting action\n",
      "action donerequesting action\n",
      "action donerequesting action\n",
      "action done\n",
      "requesting action\n",
      "action donerequesting action\n",
      "action done\n",
      "requesting action\n",
      "action done\n",
      "requesting action\n",
      "action done\n",
      "requesting action\n",
      "action donerequesting action\n",
      "action donerequesting action\n",
      "action donerequesting action\n",
      "action donerequesting action\n",
      "action done\n",
      "requesting action\n",
      "action donerequesting action\n",
      "action done\n",
      "requesting action\n",
      "action donerequesting action\n",
      "action done\n",
      "requesting action\n",
      "action done\n",
      "requesting action\n",
      "action donerequesting action\n",
      "action donerequesting action\n",
      "action donerequesting action\n",
      "action donerequesting action\n",
      "action donerequesting action\n",
      "action done\n",
      "requesting action\n",
      "action done\n",
      "requesting action\n",
      "action donerequesting action\n",
      "action done\n",
      "requesting action\n"
     ]
    }
   ],
   "source": [
    "import socket\n",
    "sock = socket.socket()\n",
    "sock.connect(('127.0.0.1', 2345))\n",
    "for i in range(40):\n",
    "    print(sock.recv(1024).decode())\n",
    "    sock.sendall('action'.encode())"
   ]
  },
  {
   "cell_type": "code",
   "execution_count": 1,
   "metadata": {},
   "outputs": [],
   "source": [
    "import numpy as np"
   ]
  },
  {
   "cell_type": "code",
   "execution_count": 4,
   "metadata": {},
   "outputs": [],
   "source": [
    "buff = np.array([[[1], [1], [1]], [[2], [2], [2]], [[3], [3], [3]]])"
   ]
  },
  {
   "cell_type": "code",
   "execution_count": 5,
   "metadata": {},
   "outputs": [
    {
     "data": {
      "text/plain": [
       "array([[[1, 2, 3]],\n",
       "\n",
       "       [[1, 2, 3]],\n",
       "\n",
       "       [[1, 2, 3]]])"
      ]
     },
     "execution_count": 5,
     "metadata": {},
     "output_type": "execute_result"
    }
   ],
   "source": [
    "buff.transpose((1, 2, 0))"
   ]
  },
  {
   "cell_type": "code",
   "execution_count": 5,
   "metadata": {},
   "outputs": [],
   "source": [
    "import numpy as np\n",
    "k = np.array([[1, 2, 3],\n",
    "             [1, 2, 3],\n",
    "             [1, 2, 3]])\n",
    "f = (k)"
   ]
  },
  {
   "cell_type": "code",
   "execution_count": 6,
   "metadata": {},
   "outputs": [
    {
     "ename": "TypeError",
     "evalue": "'zip' object is not subscriptable",
     "output_type": "error",
     "traceback": [
      "\u001b[0;31m---------------------------------------------------------------------------\u001b[0m",
      "\u001b[0;31mTypeError\u001b[0m                                 Traceback (most recent call last)",
      "\u001b[0;32m<ipython-input-6-d8711d29ed7d>\u001b[0m in \u001b[0;36m<module>\u001b[0;34m\u001b[0m\n\u001b[0;32m----> 1\u001b[0;31m \u001b[0mf\u001b[0m\u001b[0;34m[\u001b[0m\u001b[0;36m0\u001b[0m\u001b[0;34m]\u001b[0m\u001b[0;34m\u001b[0m\u001b[0;34m\u001b[0m\u001b[0m\n\u001b[0m",
      "\u001b[0;31mTypeError\u001b[0m: 'zip' object is not subscriptable"
     ]
    }
   ],
   "source": []
  },
  {
   "cell_type": "code",
   "execution_count": null,
   "metadata": {},
   "outputs": [],
   "source": []
  }
 ],
 "metadata": {
  "kernelspec": {
   "display_name": "Python 3",
   "language": "python",
   "name": "python3"
  },
  "language_info": {
   "codemirror_mode": {
    "name": "ipython",
    "version": 3
   },
   "file_extension": ".py",
   "mimetype": "text/x-python",
   "name": "python",
   "nbconvert_exporter": "python",
   "pygments_lexer": "ipython3",
   "version": "3.7.6"
  }
 },
 "nbformat": 4,
 "nbformat_minor": 4
}
